{
 "cells": [
  {
   "cell_type": "markdown",
   "id": "7d06d9d0",
   "metadata": {},
   "source": [
    "📌 1. Imports"
   ]
  },
  {
   "cell_type": "code",
   "execution_count": null,
   "id": "0864f3cc",
   "metadata": {},
   "outputs": [],
   "source": [
    "# Regular expressions for parsing input lines\n",
    "import re\n",
    "\n",
    "# Dictionary with default values for nested transitions\n",
    "from collections import defaultdict\n",
    "\n",
    "# For drawing the DFA using Graphviz\n",
    "import graphviz\n",
    "\n",
    "# For uploading files in Google Colab\n",
    "from google.colab import files"
   ]
  }
 ],
 "metadata": {
  "language_info": {
   "name": "python"
  }
 },
 "nbformat": 4,
 "nbformat_minor": 5
}
