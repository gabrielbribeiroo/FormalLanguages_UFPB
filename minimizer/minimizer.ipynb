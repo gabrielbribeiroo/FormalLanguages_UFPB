{
 "cells": [
  {
   "cell_type": "markdown",
   "id": "7d06d9d0",
   "metadata": {},
   "source": [
    "📌 1. Imports"
   ]
  },
  {
   "cell_type": "code",
   "execution_count": null,
   "id": "0864f3cc",
   "metadata": {},
   "outputs": [],
   "source": [
    "# Regular expressions for parsing input lines\n",
    "import re\n",
    "\n",
    "# Dictionary with default values for nested transitions\n",
    "from collections import defaultdict\n",
    "\n",
    "# For drawing the DFA using Graphviz\n",
    "import graphviz\n",
    "\n",
    "# For uploading files in Google Colab\n",
    "from google.colab import files"
   ]
  },
  {
   "cell_type": "markdown",
   "id": "c9cfab35",
   "metadata": {},
   "source": [
    "📌 2. DFA Class Definition and Initialization"
   ]
  },
  {
   "cell_type": "code",
   "execution_count": null,
   "id": "6b56082e",
   "metadata": {},
   "outputs": [],
   "source": [
    "class DFA:\n",
    "    def __init__(self, alphabet, states, initial, finals, transitions):\n",
    "        # Basic DFA components\n",
    "        self.alphabet = alphabet\n",
    "        self.states = states\n",
    "        self.initial = initial\n",
    "        self.finals = finals\n",
    "        self.transitions = transitions\n"
   ]
  }
 ],
 "metadata": {
  "language_info": {
   "name": "python"
  }
 },
 "nbformat": 4,
 "nbformat_minor": 5
}
