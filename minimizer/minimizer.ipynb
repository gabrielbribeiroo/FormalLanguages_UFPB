{
 "cells": [
  {
   "cell_type": "markdown",
   "id": "7d06d9d0",
   "metadata": {},
   "source": [
    "📌 1. Imports"
   ]
  },
  {
   "cell_type": "code",
   "execution_count": null,
   "id": "0864f3cc",
   "metadata": {},
   "outputs": [],
   "source": [
    "# Regular expressions for parsing input lines\n",
    "import re\n",
    "\n",
    "# Dictionary with default values for nested transitions\n",
    "from collections import defaultdict\n",
    "\n",
    "# For drawing the DFA using Graphviz\n",
    "import graphviz\n",
    "\n",
    "# For uploading files in Google Colab\n",
    "from google.colab import files"
   ]
  },
  {
   "cell_type": "markdown",
   "id": "c9cfab35",
   "metadata": {},
   "source": [
    "📌 2. DFA Class Definition and Initialization"
   ]
  },
  {
   "cell_type": "code",
   "execution_count": null,
   "id": "6b56082e",
   "metadata": {},
   "outputs": [],
   "source": [
    "class DFA:\n",
    "    def __init__(self, alphabet, states, initial, finals, transitions):\n",
    "        # Basic DFA components\n",
    "        self.alphabet = alphabet\n",
    "        self.states = states\n",
    "        self.initial = initial\n",
    "        self.finals = finals\n",
    "        self.transitions = transitions\n"
   ]
  },
  {
   "cell_type": "markdown",
   "id": "8e9457a8",
   "metadata": {},
   "source": [
    "📌 3. Loading DFA from a .txt File"
   ]
  },
  {
   "cell_type": "code",
   "execution_count": null,
   "id": "d6725518",
   "metadata": {},
   "outputs": [],
   "source": [
    "    @staticmethod\n",
    "    def from_txt(file_path):\n",
    "        # Load and parse the DFA definition from a formatted text file\n",
    "        with open(file_path, 'r') as f:\n",
    "            lines = [line.strip() for line in f if line.strip() and not line.startswith('#')]\n",
    "\n",
    "        alphabet = states = finals = transitions = None\n",
    "        initial = None\n",
    "        trans = []\n",
    "\n",
    "        for line in lines:\n",
    "            if line.startswith('alfabeto:'):\n",
    "                alphabet = line.split(':')[1].split(',')\n",
    "            elif line.startswith('estados:'):\n",
    "                states = line.split(':')[1].split(',')\n",
    "            elif line.startswith('inicial:'):\n",
    "                initial = line.split(':')[1]\n",
    "            elif line.startswith('finais:'):\n",
    "                finals = line.split(':')[1].split(',')\n",
    "            elif re.match(r'^\\w+,\\w+,\\w+$', line):\n",
    "                trans.append(tuple(line.split(',')))\n",
    "\n",
    "        if not all([alphabet, states, initial, finals, trans]):\n",
    "            raise ValueError(\"Input file is incomplete or malformed.\")\n",
    "\n",
    "        transitions = defaultdict(dict)\n",
    "        for origin, dest, symbol in trans:\n",
    "            if symbol in transitions[origin]:\n",
    "                raise ValueError(f\"Nondeterministic transition from {origin} on symbol {symbol}.\")\n",
    "            transitions[origin][symbol] = dest\n",
    "\n",
    "        dfa = DFA(alphabet, states, initial, finals, transitions)\n",
    "        dfa.validate()\n",
    "        return dfa\n"
   ]
  },
  {
   "cell_type": "markdown",
   "id": "b9bd6345",
   "metadata": {},
   "source": [
    "📌 4. Validation Method"
   ]
  },
  {
   "cell_type": "code",
   "execution_count": null,
   "id": "c67d6830",
   "metadata": {},
   "outputs": [],
   "source": [
    "    def validate(self):\n",
    "        # Ensure all states and symbols are valid\n",
    "        if self.initial not in self.states:\n",
    "            raise ValueError(\"Initial state is not in the list of states.\")\n",
    "        for f in self.finals:\n",
    "            if f not in self.states:\n",
    "                raise ValueError(f\"Final state {f} is not valid.\")\n",
    "        for origin, trans in self.transitions.items():\n",
    "            if origin not in self.states:\n",
    "                raise ValueError(f\"Invalid origin state: {origin}\")\n",
    "            for symbol, dest in trans.items():\n",
    "                if symbol not in self.alphabet:\n",
    "                    raise ValueError(f\"Invalid symbol in transition: {symbol}\")\n",
    "                if dest not in self.states:\n",
    "                    raise ValueError(f\"Invalid destination state: {dest}\")\n"
   ]
  }
 ],
 "metadata": {
  "language_info": {
   "name": "python"
  }
 },
 "nbformat": 4,
 "nbformat_minor": 5
}
